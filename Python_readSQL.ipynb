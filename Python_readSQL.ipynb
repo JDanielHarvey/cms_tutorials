{
 "cells": [
  {
   "cell_type": "code",
   "execution_count": 2,
   "metadata": {},
   "outputs": [],
   "source": [
    "import os\n",
    "import pandas as pd\n",
    "import pyodbc\n",
    "from sqlalchemy import create_engine"
   ]
  },
  {
   "cell_type": "code",
   "execution_count": 4,
   "metadata": {},
   "outputs": [],
   "source": [
    "SERVER = '54.187.115.114'\n",
    "UN = os.environ['FM_SQL_UN']\n",
    "PW = os.environ['FM_SQL_PW']\n",
    "DRIVER = 'SQL Server Native Client 11.0'\n",
    "DB = 'Fratmen'"
   ]
  },
  {
   "cell_type": "code",
   "execution_count": 5,
   "metadata": {},
   "outputs": [],
   "source": [
    "engine = create_engine(f'mssql+pyodbc://{UN}:{PW}@{SERVER}/{DB}?driver={DRIVER}')"
   ]
  },
  {
   "cell_type": "code",
   "execution_count": 12,
   "metadata": {},
   "outputs": [],
   "source": [
    "data = pd.read_sql_query(\"select * from cartSelect\", engine)"
   ]
  },
  {
   "cell_type": "code",
   "execution_count": 13,
   "metadata": {},
   "outputs": [
    {
     "data": {
      "text/plain": [
       "cartID                    int64\n",
       "email                    object\n",
       "itemsCSV                 object\n",
       "totalPrice              float64\n",
       "dateCreated      datetime64[ns]\n",
       "processStatus              bool\n",
       "dtype: object"
      ]
     },
     "execution_count": 13,
     "metadata": {},
     "output_type": "execute_result"
    }
   ],
   "source": [
    "data.dtypes"
   ]
  },
  {
   "cell_type": "code",
   "execution_count": 14,
   "metadata": {},
   "outputs": [
    {
     "name": "stdout",
     "output_type": "stream",
     "text": [
      "<class 'pandas.core.frame.DataFrame'>\n",
      "RangeIndex: 27185 entries, 0 to 27184\n",
      "Data columns (total 6 columns):\n",
      " #   Column         Non-Null Count  Dtype         \n",
      "---  ------         --------------  -----         \n",
      " 0   cartID         27185 non-null  int64         \n",
      " 1   email          27185 non-null  object        \n",
      " 2   itemsCSV       27185 non-null  object        \n",
      " 3   totalPrice     27185 non-null  float64       \n",
      " 4   dateCreated    27185 non-null  datetime64[ns]\n",
      " 5   processStatus  27185 non-null  bool          \n",
      "dtypes: bool(1), datetime64[ns](1), float64(1), int64(1), object(2)\n",
      "memory usage: 1.1+ MB\n"
     ]
    }
   ],
   "source": [
    "data.info()"
   ]
  },
  {
   "cell_type": "code",
   "execution_count": 8,
   "metadata": {},
   "outputs": [
    {
     "data": {
      "text/plain": [
       "(62898, 27)"
      ]
     },
     "execution_count": 8,
     "metadata": {},
     "output_type": "execute_result"
    }
   ],
   "source": [
    "data.shape"
   ]
  },
  {
   "cell_type": "code",
   "execution_count": 28,
   "metadata": {},
   "outputs": [],
   "source": [
    "df = pd.DataFrame(data)"
   ]
  },
  {
   "cell_type": "code",
   "execution_count": 32,
   "metadata": {},
   "outputs": [
    {
     "data": {
      "text/html": [
       "<div>\n",
       "<style scoped>\n",
       "    .dataframe tbody tr th:only-of-type {\n",
       "        vertical-align: middle;\n",
       "    }\n",
       "\n",
       "    .dataframe tbody tr th {\n",
       "        vertical-align: top;\n",
       "    }\n",
       "\n",
       "    .dataframe thead th {\n",
       "        text-align: right;\n",
       "    }\n",
       "</style>\n",
       "<table border=\"1\" class=\"dataframe\">\n",
       "  <thead>\n",
       "    <tr style=\"text-align: right;\">\n",
       "      <th></th>\n",
       "      <th>cartID</th>\n",
       "      <th>email</th>\n",
       "      <th>itemsCSV</th>\n",
       "      <th>totalPrice</th>\n",
       "      <th>dateCreated</th>\n",
       "      <th>processStatus</th>\n",
       "    </tr>\n",
       "  </thead>\n",
       "  <tbody>\n",
       "    <tr>\n",
       "      <th>0</th>\n",
       "      <td>1</td>\n",
       "      <td>john.marsh@pavlovsdog.com</td>\n",
       "      <td>319617_12/15/2100_4.95,316481_12/15/2100_2.95,</td>\n",
       "      <td>7.90</td>\n",
       "      <td>2015-05-15 03:17:57.883</td>\n",
       "      <td>False</td>\n",
       "    </tr>\n",
       "    <tr>\n",
       "      <th>1</th>\n",
       "      <td>2</td>\n",
       "      <td>john.marsh@pavlovsdog.com</td>\n",
       "      <td>317175_12/15/2100_2.95,318825_12/15/2100_2.95,</td>\n",
       "      <td>5.90</td>\n",
       "      <td>2015-05-15 03:42:52.880</td>\n",
       "      <td>False</td>\n",
       "    </tr>\n",
       "    <tr>\n",
       "      <th>2</th>\n",
       "      <td>3</td>\n",
       "      <td>john.marsh@pavlovsdog.com</td>\n",
       "      <td>317175_12/15/2100_2.95,318825_12/15/2100_2.95,...</td>\n",
       "      <td>8.85</td>\n",
       "      <td>2015-05-15 04:08:33.670</td>\n",
       "      <td>True</td>\n",
       "    </tr>\n",
       "    <tr>\n",
       "      <th>3</th>\n",
       "      <td>4</td>\n",
       "      <td>john.marsh@pavlovsdog.com</td>\n",
       "      <td>319125_12/15/2100_2.95,318252_12/15/2100_2.95,...</td>\n",
       "      <td>8.85</td>\n",
       "      <td>2015-05-15 12:18:22.047</td>\n",
       "      <td>True</td>\n",
       "    </tr>\n",
       "    <tr>\n",
       "      <th>4</th>\n",
       "      <td>5</td>\n",
       "      <td>john.marsh@pavlovsdog.com</td>\n",
       "      <td>319125_12/15/2100_2.95,318252_12/15/2100_2.95,...</td>\n",
       "      <td>11.80</td>\n",
       "      <td>2015-05-15 12:39:02.470</td>\n",
       "      <td>False</td>\n",
       "    </tr>\n",
       "    <tr>\n",
       "      <th>...</th>\n",
       "      <td>...</td>\n",
       "      <td>...</td>\n",
       "      <td>...</td>\n",
       "      <td>...</td>\n",
       "      <td>...</td>\n",
       "      <td>...</td>\n",
       "    </tr>\n",
       "    <tr>\n",
       "      <th>27180</th>\n",
       "      <td>28188</td>\n",
       "      <td>PARKERBALBOA@GMAIL.COM</td>\n",
       "      <td>305649_12/15/2100_2.95,</td>\n",
       "      <td>2.95</td>\n",
       "      <td>2020-05-28 21:28:36.480</td>\n",
       "      <td>False</td>\n",
       "    </tr>\n",
       "    <tr>\n",
       "      <th>27181</th>\n",
       "      <td>28189</td>\n",
       "      <td>criticalintroduction@gmail.com</td>\n",
       "      <td>309712_12/15/2100_2.95,308107_12/15/2100_2.95,...</td>\n",
       "      <td>44.25</td>\n",
       "      <td>2020-05-29 01:24:52.227</td>\n",
       "      <td>True</td>\n",
       "    </tr>\n",
       "    <tr>\n",
       "      <th>27182</th>\n",
       "      <td>28190</td>\n",
       "      <td>cmlazatin@yahoo.fr</td>\n",
       "      <td>320024_12/15/2100_4.95,</td>\n",
       "      <td>4.95</td>\n",
       "      <td>2020-05-29 01:47:38.457</td>\n",
       "      <td>False</td>\n",
       "    </tr>\n",
       "    <tr>\n",
       "      <th>27183</th>\n",
       "      <td>28191</td>\n",
       "      <td>cmlazatin@yahoo.fr</td>\n",
       "      <td>320209_12/15/2100_5.95,320199_12/15/2100_5.95,...</td>\n",
       "      <td>35.65</td>\n",
       "      <td>2020-05-29 02:08:07.240</td>\n",
       "      <td>False</td>\n",
       "    </tr>\n",
       "    <tr>\n",
       "      <th>27184</th>\n",
       "      <td>28192</td>\n",
       "      <td>claudiostep@tiscali.it</td>\n",
       "      <td>319655_12/15/2100_4.95,</td>\n",
       "      <td>4.95</td>\n",
       "      <td>2020-05-29 07:28:16.893</td>\n",
       "      <td>True</td>\n",
       "    </tr>\n",
       "  </tbody>\n",
       "</table>\n",
       "<p>27185 rows × 6 columns</p>\n",
       "</div>"
      ],
      "text/plain": [
       "       cartID                           email  \\\n",
       "0           1       john.marsh@pavlovsdog.com   \n",
       "1           2       john.marsh@pavlovsdog.com   \n",
       "2           3       john.marsh@pavlovsdog.com   \n",
       "3           4       john.marsh@pavlovsdog.com   \n",
       "4           5       john.marsh@pavlovsdog.com   \n",
       "...       ...                             ...   \n",
       "27180   28188          PARKERBALBOA@GMAIL.COM   \n",
       "27181   28189  criticalintroduction@gmail.com   \n",
       "27182   28190              cmlazatin@yahoo.fr   \n",
       "27183   28191              cmlazatin@yahoo.fr   \n",
       "27184   28192          claudiostep@tiscali.it   \n",
       "\n",
       "                                                itemsCSV  totalPrice  \\\n",
       "0         319617_12/15/2100_4.95,316481_12/15/2100_2.95,        7.90   \n",
       "1         317175_12/15/2100_2.95,318825_12/15/2100_2.95,        5.90   \n",
       "2      317175_12/15/2100_2.95,318825_12/15/2100_2.95,...        8.85   \n",
       "3      319125_12/15/2100_2.95,318252_12/15/2100_2.95,...        8.85   \n",
       "4      319125_12/15/2100_2.95,318252_12/15/2100_2.95,...       11.80   \n",
       "...                                                  ...         ...   \n",
       "27180                            305649_12/15/2100_2.95,        2.95   \n",
       "27181  309712_12/15/2100_2.95,308107_12/15/2100_2.95,...       44.25   \n",
       "27182                            320024_12/15/2100_4.95,        4.95   \n",
       "27183  320209_12/15/2100_5.95,320199_12/15/2100_5.95,...       35.65   \n",
       "27184                            319655_12/15/2100_4.95,        4.95   \n",
       "\n",
       "                  dateCreated  processStatus  \n",
       "0     2015-05-15 03:17:57.883          False  \n",
       "1     2015-05-15 03:42:52.880          False  \n",
       "2     2015-05-15 04:08:33.670           True  \n",
       "3     2015-05-15 12:18:22.047           True  \n",
       "4     2015-05-15 12:39:02.470          False  \n",
       "...                       ...            ...  \n",
       "27180 2020-05-28 21:28:36.480          False  \n",
       "27181 2020-05-29 01:24:52.227           True  \n",
       "27182 2020-05-29 01:47:38.457          False  \n",
       "27183 2020-05-29 02:08:07.240          False  \n",
       "27184 2020-05-29 07:28:16.893           True  \n",
       "\n",
       "[27185 rows x 6 columns]"
      ]
     },
     "execution_count": 32,
     "metadata": {},
     "output_type": "execute_result"
    }
   ],
   "source": [
    "df"
   ]
  },
  {
   "cell_type": "code",
   "execution_count": 37,
   "metadata": {},
   "outputs": [
    {
     "data": {
      "text/plain": [
       "(pandas.core.series.Series, pandas.core.frame.DataFrame)"
      ]
     },
     "execution_count": 37,
     "metadata": {},
     "output_type": "execute_result"
    }
   ],
   "source": [
    "type(df['email']), type(df)"
   ]
  },
  {
   "cell_type": "code",
   "execution_count": 38,
   "metadata": {},
   "outputs": [
    {
     "data": {
      "text/plain": [
       "0             john.marsh@pavlovsdog.com\n",
       "1             john.marsh@pavlovsdog.com\n",
       "2             john.marsh@pavlovsdog.com\n",
       "3             john.marsh@pavlovsdog.com\n",
       "4             john.marsh@pavlovsdog.com\n",
       "                      ...              \n",
       "27180            PARKERBALBOA@GMAIL.COM\n",
       "27181    criticalintroduction@gmail.com\n",
       "27182                cmlazatin@yahoo.fr\n",
       "27183                cmlazatin@yahoo.fr\n",
       "27184            claudiostep@tiscali.it\n",
       "Name: email, Length: 27185, dtype: object"
      ]
     },
     "execution_count": 38,
     "metadata": {},
     "output_type": "execute_result"
    }
   ],
   "source": [
    "df['email']"
   ]
  },
  {
   "cell_type": "code",
   "execution_count": 43,
   "metadata": {},
   "outputs": [
    {
     "data": {
      "text/plain": [
       "0             john.marsh@pavlovsdog.com\n",
       "1             john.marsh@pavlovsdog.com\n",
       "2             john.marsh@pavlovsdog.com\n",
       "3             john.marsh@pavlovsdog.com\n",
       "4             john.marsh@pavlovsdog.com\n",
       "                      ...              \n",
       "27179           swimbikerun28@yahoo.com\n",
       "27180            PARKERBALBOA@GMAIL.COM\n",
       "27181    criticalintroduction@gmail.com\n",
       "27182                cmlazatin@yahoo.fr\n",
       "27183                cmlazatin@yahoo.fr\n",
       "Name: email, Length: 27184, dtype: object"
      ]
     },
     "execution_count": 43,
     "metadata": {},
     "output_type": "execute_result"
    }
   ],
   "source": [
    "df.email[:-1]"
   ]
  },
  {
   "cell_type": "code",
   "execution_count": 45,
   "metadata": {},
   "outputs": [
    {
     "data": {
      "text/html": [
       "<div>\n",
       "<style scoped>\n",
       "    .dataframe tbody tr th:only-of-type {\n",
       "        vertical-align: middle;\n",
       "    }\n",
       "\n",
       "    .dataframe tbody tr th {\n",
       "        vertical-align: top;\n",
       "    }\n",
       "\n",
       "    .dataframe thead th {\n",
       "        text-align: right;\n",
       "    }\n",
       "</style>\n",
       "<table border=\"1\" class=\"dataframe\">\n",
       "  <thead>\n",
       "    <tr style=\"text-align: right;\">\n",
       "      <th></th>\n",
       "      <th>email</th>\n",
       "      <th>totalPrice</th>\n",
       "    </tr>\n",
       "  </thead>\n",
       "  <tbody>\n",
       "    <tr>\n",
       "      <th>0</th>\n",
       "      <td>john.marsh@pavlovsdog.com</td>\n",
       "      <td>7.90</td>\n",
       "    </tr>\n",
       "    <tr>\n",
       "      <th>1</th>\n",
       "      <td>john.marsh@pavlovsdog.com</td>\n",
       "      <td>5.90</td>\n",
       "    </tr>\n",
       "    <tr>\n",
       "      <th>2</th>\n",
       "      <td>john.marsh@pavlovsdog.com</td>\n",
       "      <td>8.85</td>\n",
       "    </tr>\n",
       "    <tr>\n",
       "      <th>3</th>\n",
       "      <td>john.marsh@pavlovsdog.com</td>\n",
       "      <td>8.85</td>\n",
       "    </tr>\n",
       "    <tr>\n",
       "      <th>4</th>\n",
       "      <td>john.marsh@pavlovsdog.com</td>\n",
       "      <td>11.80</td>\n",
       "    </tr>\n",
       "    <tr>\n",
       "      <th>...</th>\n",
       "      <td>...</td>\n",
       "      <td>...</td>\n",
       "    </tr>\n",
       "    <tr>\n",
       "      <th>27180</th>\n",
       "      <td>PARKERBALBOA@GMAIL.COM</td>\n",
       "      <td>2.95</td>\n",
       "    </tr>\n",
       "    <tr>\n",
       "      <th>27181</th>\n",
       "      <td>criticalintroduction@gmail.com</td>\n",
       "      <td>44.25</td>\n",
       "    </tr>\n",
       "    <tr>\n",
       "      <th>27182</th>\n",
       "      <td>cmlazatin@yahoo.fr</td>\n",
       "      <td>4.95</td>\n",
       "    </tr>\n",
       "    <tr>\n",
       "      <th>27183</th>\n",
       "      <td>cmlazatin@yahoo.fr</td>\n",
       "      <td>35.65</td>\n",
       "    </tr>\n",
       "    <tr>\n",
       "      <th>27184</th>\n",
       "      <td>claudiostep@tiscali.it</td>\n",
       "      <td>4.95</td>\n",
       "    </tr>\n",
       "  </tbody>\n",
       "</table>\n",
       "<p>27185 rows × 2 columns</p>\n",
       "</div>"
      ],
      "text/plain": [
       "                                email  totalPrice\n",
       "0           john.marsh@pavlovsdog.com        7.90\n",
       "1           john.marsh@pavlovsdog.com        5.90\n",
       "2           john.marsh@pavlovsdog.com        8.85\n",
       "3           john.marsh@pavlovsdog.com        8.85\n",
       "4           john.marsh@pavlovsdog.com       11.80\n",
       "...                               ...         ...\n",
       "27180          PARKERBALBOA@GMAIL.COM        2.95\n",
       "27181  criticalintroduction@gmail.com       44.25\n",
       "27182              cmlazatin@yahoo.fr        4.95\n",
       "27183              cmlazatin@yahoo.fr       35.65\n",
       "27184          claudiostep@tiscali.it        4.95\n",
       "\n",
       "[27185 rows x 2 columns]"
      ]
     },
     "execution_count": 45,
     "metadata": {},
     "output_type": "execute_result"
    }
   ],
   "source": [
    "df[['email', 'totalPrice']]"
   ]
  },
  {
   "cell_type": "code",
   "execution_count": 49,
   "metadata": {},
   "outputs": [
    {
     "data": {
      "text/html": [
       "<div>\n",
       "<style scoped>\n",
       "    .dataframe tbody tr th:only-of-type {\n",
       "        vertical-align: middle;\n",
       "    }\n",
       "\n",
       "    .dataframe tbody tr th {\n",
       "        vertical-align: top;\n",
       "    }\n",
       "\n",
       "    .dataframe thead th {\n",
       "        text-align: right;\n",
       "    }\n",
       "</style>\n",
       "<table border=\"1\" class=\"dataframe\">\n",
       "  <thead>\n",
       "    <tr style=\"text-align: right;\">\n",
       "      <th></th>\n",
       "      <th>email</th>\n",
       "    </tr>\n",
       "  </thead>\n",
       "  <tbody>\n",
       "    <tr>\n",
       "      <th>0</th>\n",
       "      <td>john.marsh@pavlovsdog.com</td>\n",
       "    </tr>\n",
       "    <tr>\n",
       "      <th>1</th>\n",
       "      <td>john.marsh@pavlovsdog.com</td>\n",
       "    </tr>\n",
       "    <tr>\n",
       "      <th>2</th>\n",
       "      <td>john.marsh@pavlovsdog.com</td>\n",
       "    </tr>\n",
       "    <tr>\n",
       "      <th>3</th>\n",
       "      <td>john.marsh@pavlovsdog.com</td>\n",
       "    </tr>\n",
       "    <tr>\n",
       "      <th>4</th>\n",
       "      <td>john.marsh@pavlovsdog.com</td>\n",
       "    </tr>\n",
       "    <tr>\n",
       "      <th>...</th>\n",
       "      <td>...</td>\n",
       "    </tr>\n",
       "    <tr>\n",
       "      <th>27180</th>\n",
       "      <td>PARKERBALBOA@GMAIL.COM</td>\n",
       "    </tr>\n",
       "    <tr>\n",
       "      <th>27181</th>\n",
       "      <td>criticalintroduction@gmail.com</td>\n",
       "    </tr>\n",
       "    <tr>\n",
       "      <th>27182</th>\n",
       "      <td>cmlazatin@yahoo.fr</td>\n",
       "    </tr>\n",
       "    <tr>\n",
       "      <th>27183</th>\n",
       "      <td>cmlazatin@yahoo.fr</td>\n",
       "    </tr>\n",
       "    <tr>\n",
       "      <th>27184</th>\n",
       "      <td>claudiostep@tiscali.it</td>\n",
       "    </tr>\n",
       "  </tbody>\n",
       "</table>\n",
       "<p>27185 rows × 1 columns</p>\n",
       "</div>"
      ],
      "text/plain": [
       "                                email\n",
       "0           john.marsh@pavlovsdog.com\n",
       "1           john.marsh@pavlovsdog.com\n",
       "2           john.marsh@pavlovsdog.com\n",
       "3           john.marsh@pavlovsdog.com\n",
       "4           john.marsh@pavlovsdog.com\n",
       "...                               ...\n",
       "27180          PARKERBALBOA@GMAIL.COM\n",
       "27181  criticalintroduction@gmail.com\n",
       "27182              cmlazatin@yahoo.fr\n",
       "27183              cmlazatin@yahoo.fr\n",
       "27184          claudiostep@tiscali.it\n",
       "\n",
       "[27185 rows x 1 columns]"
      ]
     },
     "execution_count": 49,
     "metadata": {},
     "output_type": "execute_result"
    }
   ],
   "source": [
    "df[['email']]"
   ]
  },
  {
   "cell_type": "code",
   "execution_count": 50,
   "metadata": {},
   "outputs": [
    {
     "data": {
      "text/plain": [
       "pandas.core.frame.DataFrame"
      ]
     },
     "execution_count": 50,
     "metadata": {},
     "output_type": "execute_result"
    }
   ],
   "source": [
    "type(df[['email']])"
   ]
  },
  {
   "cell_type": "code",
   "execution_count": 51,
   "metadata": {},
   "outputs": [
    {
     "data": {
      "text/plain": [
       "Index(['cartID', 'email', 'itemsCSV', 'totalPrice', 'dateCreated',\n",
       "       'processStatus'],\n",
       "      dtype='object')"
      ]
     },
     "execution_count": 51,
     "metadata": {},
     "output_type": "execute_result"
    }
   ],
   "source": [
    "df.columns"
   ]
  },
  {
   "cell_type": "code",
   "execution_count": 52,
   "metadata": {},
   "outputs": [
    {
     "data": {
      "text/plain": [
       "'cartID'"
      ]
     },
     "execution_count": 52,
     "metadata": {},
     "output_type": "execute_result"
    }
   ],
   "source": [
    "df.columns"
   ]
  },
  {
   "cell_type": "code",
   "execution_count": 58,
   "metadata": {},
   "outputs": [
    {
     "data": {
      "text/html": [
       "<div>\n",
       "<style scoped>\n",
       "    .dataframe tbody tr th:only-of-type {\n",
       "        vertical-align: middle;\n",
       "    }\n",
       "\n",
       "    .dataframe tbody tr th {\n",
       "        vertical-align: top;\n",
       "    }\n",
       "\n",
       "    .dataframe thead th {\n",
       "        text-align: right;\n",
       "    }\n",
       "</style>\n",
       "<table border=\"1\" class=\"dataframe\">\n",
       "  <thead>\n",
       "    <tr style=\"text-align: right;\">\n",
       "      <th></th>\n",
       "      <th>cartID</th>\n",
       "      <th>email</th>\n",
       "      <th>itemsCSV</th>\n",
       "      <th>totalPrice</th>\n",
       "      <th>dateCreated</th>\n",
       "      <th>processStatus</th>\n",
       "    </tr>\n",
       "  </thead>\n",
       "  <tbody>\n",
       "    <tr>\n",
       "      <th>5</th>\n",
       "      <td>6</td>\n",
       "      <td>john.marsh@pavlovsdog.com</td>\n",
       "      <td>320633_12/15/2100_2.95,</td>\n",
       "      <td>2.95</td>\n",
       "      <td>2015-05-16 13:12:25.417</td>\n",
       "      <td>True</td>\n",
       "    </tr>\n",
       "    <tr>\n",
       "      <th>6</th>\n",
       "      <td>7</td>\n",
       "      <td>john.marsh@pavlovsdog.com</td>\n",
       "      <td>316352_12/15/2100_2.95,320267_12/15/2100_49.00...</td>\n",
       "      <td>56.90</td>\n",
       "      <td>2015-05-16 15:15:10.917</td>\n",
       "      <td>True</td>\n",
       "    </tr>\n",
       "    <tr>\n",
       "      <th>7</th>\n",
       "      <td>8</td>\n",
       "      <td>rob88b@hotmail.com</td>\n",
       "      <td>320630_12/15/2100_2.95,</td>\n",
       "      <td>2.95</td>\n",
       "      <td>2015-05-16 19:30:24.300</td>\n",
       "      <td>False</td>\n",
       "    </tr>\n",
       "    <tr>\n",
       "      <th>8</th>\n",
       "      <td>9</td>\n",
       "      <td>pderrick12@yahoo.com</td>\n",
       "      <td>320267_12/15/2100_49.00,</td>\n",
       "      <td>49.00</td>\n",
       "      <td>2015-05-16 21:49:09.720</td>\n",
       "      <td>False</td>\n",
       "    </tr>\n",
       "    <tr>\n",
       "      <th>9</th>\n",
       "      <td>10</td>\n",
       "      <td>CMCNICK@AOL.COM</td>\n",
       "      <td>320633_12/15/2100_2.95,</td>\n",
       "      <td>2.95</td>\n",
       "      <td>2015-05-17 07:52:04.390</td>\n",
       "      <td>False</td>\n",
       "    </tr>\n",
       "  </tbody>\n",
       "</table>\n",
       "</div>"
      ],
      "text/plain": [
       "   cartID                      email  \\\n",
       "5       6  john.marsh@pavlovsdog.com   \n",
       "6       7  john.marsh@pavlovsdog.com   \n",
       "7       8         rob88b@hotmail.com   \n",
       "8       9       pderrick12@yahoo.com   \n",
       "9      10            CMCNICK@AOL.COM   \n",
       "\n",
       "                                            itemsCSV  totalPrice  \\\n",
       "5                            320633_12/15/2100_2.95,        2.95   \n",
       "6  316352_12/15/2100_2.95,320267_12/15/2100_49.00...       56.90   \n",
       "7                            320630_12/15/2100_2.95,        2.95   \n",
       "8                           320267_12/15/2100_49.00,       49.00   \n",
       "9                            320633_12/15/2100_2.95,        2.95   \n",
       "\n",
       "              dateCreated  processStatus  \n",
       "5 2015-05-16 13:12:25.417           True  \n",
       "6 2015-05-16 15:15:10.917           True  \n",
       "7 2015-05-16 19:30:24.300          False  \n",
       "8 2015-05-16 21:49:09.720          False  \n",
       "9 2015-05-17 07:52:04.390          False  "
      ]
     },
     "execution_count": 58,
     "metadata": {},
     "output_type": "execute_result"
    }
   ],
   "source": [
    "# integer location\n",
    "df.iloc[5:10]"
   ]
  },
  {
   "cell_type": "code",
   "execution_count": 59,
   "metadata": {},
   "outputs": [
    {
     "data": {
      "text/html": [
       "<div>\n",
       "<style scoped>\n",
       "    .dataframe tbody tr th:only-of-type {\n",
       "        vertical-align: middle;\n",
       "    }\n",
       "\n",
       "    .dataframe tbody tr th {\n",
       "        vertical-align: top;\n",
       "    }\n",
       "\n",
       "    .dataframe thead th {\n",
       "        text-align: right;\n",
       "    }\n",
       "</style>\n",
       "<table border=\"1\" class=\"dataframe\">\n",
       "  <thead>\n",
       "    <tr style=\"text-align: right;\">\n",
       "      <th></th>\n",
       "      <th>cartID</th>\n",
       "      <th>email</th>\n",
       "      <th>itemsCSV</th>\n",
       "      <th>totalPrice</th>\n",
       "      <th>dateCreated</th>\n",
       "      <th>processStatus</th>\n",
       "    </tr>\n",
       "  </thead>\n",
       "  <tbody>\n",
       "    <tr>\n",
       "      <th>5</th>\n",
       "      <td>6</td>\n",
       "      <td>john.marsh@pavlovsdog.com</td>\n",
       "      <td>320633_12/15/2100_2.95,</td>\n",
       "      <td>2.95</td>\n",
       "      <td>2015-05-16 13:12:25.417</td>\n",
       "      <td>True</td>\n",
       "    </tr>\n",
       "    <tr>\n",
       "      <th>7</th>\n",
       "      <td>8</td>\n",
       "      <td>rob88b@hotmail.com</td>\n",
       "      <td>320630_12/15/2100_2.95,</td>\n",
       "      <td>2.95</td>\n",
       "      <td>2015-05-16 19:30:24.300</td>\n",
       "      <td>False</td>\n",
       "    </tr>\n",
       "  </tbody>\n",
       "</table>\n",
       "</div>"
      ],
      "text/plain": [
       "   cartID                      email                 itemsCSV  totalPrice  \\\n",
       "5       6  john.marsh@pavlovsdog.com  320633_12/15/2100_2.95,        2.95   \n",
       "7       8         rob88b@hotmail.com  320630_12/15/2100_2.95,        2.95   \n",
       "\n",
       "              dateCreated  processStatus  \n",
       "5 2015-05-16 13:12:25.417           True  \n",
       "7 2015-05-16 19:30:24.300          False  "
      ]
     },
     "execution_count": 59,
     "metadata": {},
     "output_type": "execute_result"
    }
   ],
   "source": [
    "df.iloc[[5,7]]"
   ]
  },
  {
   "cell_type": "code",
   "execution_count": 60,
   "metadata": {},
   "outputs": [
    {
     "data": {
      "text/html": [
       "<div>\n",
       "<style scoped>\n",
       "    .dataframe tbody tr th:only-of-type {\n",
       "        vertical-align: middle;\n",
       "    }\n",
       "\n",
       "    .dataframe tbody tr th {\n",
       "        vertical-align: top;\n",
       "    }\n",
       "\n",
       "    .dataframe thead th {\n",
       "        text-align: right;\n",
       "    }\n",
       "</style>\n",
       "<table border=\"1\" class=\"dataframe\">\n",
       "  <thead>\n",
       "    <tr style=\"text-align: right;\">\n",
       "      <th></th>\n",
       "      <th>email</th>\n",
       "      <th>totalPrice</th>\n",
       "    </tr>\n",
       "  </thead>\n",
       "  <tbody>\n",
       "    <tr>\n",
       "      <th>5</th>\n",
       "      <td>john.marsh@pavlovsdog.com</td>\n",
       "      <td>2.95</td>\n",
       "    </tr>\n",
       "    <tr>\n",
       "      <th>7</th>\n",
       "      <td>rob88b@hotmail.com</td>\n",
       "      <td>2.95</td>\n",
       "    </tr>\n",
       "  </tbody>\n",
       "</table>\n",
       "</div>"
      ],
      "text/plain": [
       "                       email  totalPrice\n",
       "5  john.marsh@pavlovsdog.com        2.95\n",
       "7         rob88b@hotmail.com        2.95"
      ]
     },
     "execution_count": 60,
     "metadata": {},
     "output_type": "execute_result"
    }
   ],
   "source": [
    "df.iloc[[5,7], [1,3]]"
   ]
  },
  {
   "cell_type": "code",
   "execution_count": 61,
   "metadata": {},
   "outputs": [
    {
     "data": {
      "text/html": [
       "<div>\n",
       "<style scoped>\n",
       "    .dataframe tbody tr th:only-of-type {\n",
       "        vertical-align: middle;\n",
       "    }\n",
       "\n",
       "    .dataframe tbody tr th {\n",
       "        vertical-align: top;\n",
       "    }\n",
       "\n",
       "    .dataframe thead th {\n",
       "        text-align: right;\n",
       "    }\n",
       "</style>\n",
       "<table border=\"1\" class=\"dataframe\">\n",
       "  <thead>\n",
       "    <tr style=\"text-align: right;\">\n",
       "      <th></th>\n",
       "      <th>cartID</th>\n",
       "      <th>email</th>\n",
       "      <th>itemsCSV</th>\n",
       "      <th>totalPrice</th>\n",
       "      <th>dateCreated</th>\n",
       "      <th>processStatus</th>\n",
       "    </tr>\n",
       "  </thead>\n",
       "  <tbody>\n",
       "    <tr>\n",
       "      <th>0</th>\n",
       "      <td>1</td>\n",
       "      <td>john.marsh@pavlovsdog.com</td>\n",
       "      <td>319617_12/15/2100_4.95,316481_12/15/2100_2.95,</td>\n",
       "      <td>7.9</td>\n",
       "      <td>2015-05-15 03:17:57.883</td>\n",
       "      <td>False</td>\n",
       "    </tr>\n",
       "  </tbody>\n",
       "</table>\n",
       "</div>"
      ],
      "text/plain": [
       "   cartID                      email  \\\n",
       "0       1  john.marsh@pavlovsdog.com   \n",
       "\n",
       "                                         itemsCSV  totalPrice  \\\n",
       "0  319617_12/15/2100_4.95,316481_12/15/2100_2.95,         7.9   \n",
       "\n",
       "              dateCreated  processStatus  \n",
       "0 2015-05-15 03:17:57.883          False  "
      ]
     },
     "execution_count": 61,
     "metadata": {},
     "output_type": "execute_result"
    }
   ],
   "source": [
    "df.loc[[0]]"
   ]
  },
  {
   "cell_type": "code",
   "execution_count": 70,
   "metadata": {},
   "outputs": [
    {
     "data": {
      "text/html": [
       "<div>\n",
       "<style scoped>\n",
       "    .dataframe tbody tr th:only-of-type {\n",
       "        vertical-align: middle;\n",
       "    }\n",
       "\n",
       "    .dataframe tbody tr th {\n",
       "        vertical-align: top;\n",
       "    }\n",
       "\n",
       "    .dataframe thead th {\n",
       "        text-align: right;\n",
       "    }\n",
       "</style>\n",
       "<table border=\"1\" class=\"dataframe\">\n",
       "  <thead>\n",
       "    <tr style=\"text-align: right;\">\n",
       "      <th></th>\n",
       "      <th>dateCreated</th>\n",
       "      <th>totalPrice</th>\n",
       "      <th>email</th>\n",
       "    </tr>\n",
       "  </thead>\n",
       "  <tbody>\n",
       "    <tr>\n",
       "      <th>5</th>\n",
       "      <td>2015-05-16 13:12:25.417</td>\n",
       "      <td>2.95</td>\n",
       "      <td>john.marsh@pavlovsdog.com</td>\n",
       "    </tr>\n",
       "    <tr>\n",
       "      <th>7</th>\n",
       "      <td>2015-05-16 19:30:24.300</td>\n",
       "      <td>2.95</td>\n",
       "      <td>rob88b@hotmail.com</td>\n",
       "    </tr>\n",
       "    <tr>\n",
       "      <th>9</th>\n",
       "      <td>2015-05-17 07:52:04.390</td>\n",
       "      <td>2.95</td>\n",
       "      <td>CMCNICK@AOL.COM</td>\n",
       "    </tr>\n",
       "  </tbody>\n",
       "</table>\n",
       "</div>"
      ],
      "text/plain": [
       "              dateCreated  totalPrice                      email\n",
       "5 2015-05-16 13:12:25.417        2.95  john.marsh@pavlovsdog.com\n",
       "7 2015-05-16 19:30:24.300        2.95         rob88b@hotmail.com\n",
       "9 2015-05-17 07:52:04.390        2.95            CMCNICK@AOL.COM"
      ]
     },
     "execution_count": 70,
     "metadata": {},
     "output_type": "execute_result"
    }
   ],
   "source": [
    "# -- df.loc when specifying rows cannot use int ranges [0:10] unless brackets are removed\n",
    "df.loc[[5,7,9],['dateCreated', 'totalPrice', 'email']]"
   ]
  },
  {
   "cell_type": "code",
   "execution_count": null,
   "metadata": {},
   "outputs": [],
   "source": []
  }
 ],
 "metadata": {
  "kernelspec": {
   "display_name": "Python 3",
   "language": "python",
   "name": "python3"
  },
  "language_info": {
   "codemirror_mode": {
    "name": "ipython",
    "version": 3
   },
   "file_extension": ".py",
   "mimetype": "text/x-python",
   "name": "python",
   "nbconvert_exporter": "python",
   "pygments_lexer": "ipython3",
   "version": "3.8.0"
  }
 },
 "nbformat": 4,
 "nbformat_minor": 4
}
